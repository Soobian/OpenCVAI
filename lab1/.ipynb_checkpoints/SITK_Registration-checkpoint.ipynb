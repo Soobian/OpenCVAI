{
 "cells": [
  {
   "cell_type": "code",
   "execution_count": 1,
   "id": "27d4232e",
   "metadata": {},
   "outputs": [],
   "source": [
    "#https://github.com/InsightSoftwareConsortium/SimpleITK-Notebooks/tree/master/Python\n",
    "\n",
    "#https://simpleitk.org/doxygen/latest/html/examples.html\n",
    "#https://simpleitk.org/doxygen/latest/html/ImageRegistrationMethod1_2ImageRegistrationMethod1_8py-example.html\n",
    "#https://simpleitk.org/doxygen/latest/html/ImageRegistrationMethod2_2ImageRegistrationMethod2_8py-example.html\n",
    "#https://simpleitk.org/doxygen/latest/html/ImageRegistrationMethod3_2ImageRegistrationMethod3_8py-example.html\n",
    "#https://simpleitk.org/doxygen/latest/html/ImageRegistrationMethod4_2ImageRegistrationMethod4_8py-example.html\n",
    "\n",
    "#B_spline registration\n",
    "#https://simpleitk.org/doxygen/latest/html/ImageRegistrationMethodBSpline1_2ImageRegistrationMethodBSpline1_8py-example.html\n",
    "#https://simpleitk.org/doxygen/latest/html/ImageRegistrationMethodBSpline2_2ImageRegistrationMethodBSpline2_8py-example.html\n",
    "#https://simpleitk.org/doxygen/latest/html/ImageRegistrationMethodBSpline3_2ImageRegistrationMethodBSpline3_8py-example.html\n",
    "#http://simpleitk.org/SimpleITK-Notebooks/01_Image_Basics.html\n",
    "\n",
    "import numpy as np\n",
    "import glob\n",
    "import pydicom\n",
    "import os\n",
    "from pycimg import CImg\n",
    "import nibabel as nib\n",
    "from scipy.interpolate import interpn\n",
    "from skimage.filters import gaussian\n",
    "import SimpleITK as sitk\n",
    "import sys"
   ]
  },
  {
   "cell_type": "code",
   "execution_count": 2,
   "id": "63bb23bb",
   "metadata": {},
   "outputs": [],
   "source": [
    "im1Name = './Data/T1_image_0007.nii.gz'\n",
    "im2Name = './Data/DWI_image_0006.nii.gz'"
   ]
  },
  {
   "cell_type": "code",
   "execution_count": 3,
   "id": "fe015d64",
   "metadata": {},
   "outputs": [],
   "source": [
    "def command_iteration(method):\n",
    "     print(f\"{method.GetOptimizerIteration():3} = {method.GetMetricValue():10.5f} : {method.GetOptimizerPosition()}\")\n",
    " "
   ]
  },
  {
   "cell_type": "code",
   "execution_count": 4,
   "id": "0a5684e0",
   "metadata": {},
   "outputs": [],
   "source": [
    "fixed = sitk.ReadImage(im1Name, sitk.sitkFloat32)   # to jest segmentacja \n",
    "fixed = sitk.DiscreteGaussian(fixed, 5.0)           # więc ją nieco rozmywam\n",
    "\n",
    "moving = sitk.ReadImage(im2Name, sitk.sitkFloat32)  # to też jest segmentacja \n",
    "moving = sitk.DiscreteGaussian(moving, 5.0)         # więc ją nieco rozmywam\n"
   ]
  },
  {
   "cell_type": "code",
   "execution_count": 5,
   "id": "2bc52eb1",
   "metadata": {},
   "outputs": [
    {
     "name": "stdout",
     "output_type": "stream",
     "text": [
      "  0 =   -0.89814 : (0.0006578114618810292, -0.0011585186477261473, 0.00163533239617572, -14.70159284468855, -0.4608462502222556, 23.55313644920814, 1.0008368104130345)\n",
      "  1 =   -0.90636 : (0.0008191429931371525, -0.0010710781112226121, 0.0019466102053613834, -14.723093602088714, -0.5990284613267796, 22.562963308069904, 1.0009860157657733)\n",
      "  2 =   -0.91053 : (0.0012928699214530917, -0.0009876002972987335, 0.0027272237536789205, -14.593625801076271, -0.8216856367528074, 21.5967033245701, 1.0013759208163042)\n",
      "  3 =   -0.90924 : (0.0018646724330531217, -0.000925287424771798, 0.00346841369288367, -14.375369399554772, -0.9155982317805212, 22.036636155027534, 1.0017651790227287)\n",
      "  4 =   -0.91109 : (0.0022057693730454697, -0.000760426172559602, 0.0038740070466392446, -14.364688228428014, -0.9888352277685089, 21.797845498582966, 1.00197790125287)\n",
      "  5 =   -0.91154 : (0.0036203644562818028, -0.00013467781225801685, 0.005472759364178324, -14.246213628374045, -1.1852363344920567, 21.69849833259656, 1.0028263783008307)\n",
      "  6 =   -0.91348 : (0.0055314103476352934, 0.0010142778879920983, 0.007342728657403931, -14.323852348925623, -1.2623881674464301, 21.758580869319463, 1.003843616489219)\n",
      "  7 =   -0.91733 : (0.0061515648774115445, 0.0013945871844552667, 0.007941580029387644, -14.35345699008552, -1.2725552340192081, 21.70451797281205, 1.0041558682748473)\n",
      "  8 =   -0.91820 : (0.006451375949324375, 0.0015765834945278682, 0.008235621122712564, -14.361068628477671, -1.2715999102546558, 21.734797526942806, 1.0043090307246876)\n",
      "  9 =   -0.91878 : (0.0071853797489650146, 0.002042329312479701, 0.008962751171936095, -14.3900774451413, -1.2703847641986528, 21.746124176821972, 1.0046875761766223)\n",
      "-------\n",
      "itk::simple::Similarity3DTransform\n",
      " Similarity3DTransform (0x55f0d2106c50)\n",
      "   RTTI typeinfo:   itk::Similarity3DTransform<double>\n",
      "   Reference Count: 3\n",
      "   Modified Time: 3087\n",
      "   Debug: Off\n",
      "   Object Name: \n",
      "   Observers: \n",
      "     none\n",
      "   Matrix: \n",
      "     1.00452 -0.0179788 0.00423293 \n",
      "     0.0180378 1.00442 -0.0144004 \n",
      "     -0.00397412 0.0144739 1.00458 \n",
      "   Offset: [-16.9882, 3.96974, 22.6829]\n",
      "   Center: [-143.584, -147.958, 138.598]\n",
      "   Translation: [-14.3901, -1.27038, 21.7461]\n",
      "   Inverse: \n",
      "     0.995166 0.0178699 -0.00393712 \n",
      "     -0.0178114 0.995072 0.0143392 \n",
      "     0.00419352 -0.0142663 0.995223 \n",
      "   Singular: 0\n",
      "   Versor: [ 0.00718538, 0.00204233, 0.00896275, 0.999932 ]\n",
      "   Scale = 1.00469\n",
      "\n",
      "Optimizer stop condition: RegularStepGradientDescentOptimizerv4: Maximum number of iterations (10) exceeded.\n",
      " Iteration: 10\n",
      " Metric value: -0.9187791224745213\n"
     ]
    }
   ],
   "source": [
    "# Najpierw znajduję transformację afiniczną moving->fixed\n",
    "\n",
    "R = sitk.ImageRegistrationMethod()\n",
    "\n",
    "R.SetMetricAsCorrelation()\n",
    "R.SetOptimizerAsRegularStepGradientDescent(learningRate=2.0,\n",
    "                                        minStep=1e-4,\n",
    "                                        numberOfIterations=10,\n",
    "                                        gradientMagnitudeTolerance=1e-8)\n",
    "R.SetOptimizerScalesFromIndexShift()\n",
    "tx = sitk.CenteredTransformInitializer(fixed, moving,\n",
    "                                    sitk.Similarity3DTransform())\n",
    "R.SetInitialTransform(tx)\n",
    "R.SetInterpolator(sitk.sitkLinear)\n",
    "\n",
    "# to można odkomentować, żeby widzieć postęp\n",
    "R.AddCommand(sitk.sitkIterationEvent, lambda: command_iteration(R))\n",
    "\n",
    "outTx = R.Execute(fixed, moving)\n",
    "\n",
    "# Aplikuję transformację do \"moving image\"\n",
    "\n",
    "print(\"-------\")\n",
    "print(outTx)\n",
    "print(f\"Optimizer stop condition: {R.GetOptimizerStopConditionDescription()}\")\n",
    "print(f\" Iteration: {R.GetOptimizerIteration()}\")\n",
    "print(f\" Metric value: {R.GetMetricValue()}\")\n",
    "\n",
    "#sitk.WriteTransform(outTx, 'transform.txt')\n",
    "#print(outTx)\n",
    "  \n",
    "resampler = sitk.ResampleImageFilter()\n",
    "resampler.SetReferenceImage(fixed)\n",
    "resampler.SetInterpolator(sitk.sitkLinear)\n",
    "resampler.SetDefaultPixelValue(0)\n",
    "resampler.SetTransform(outTx)\n",
    "\n",
    "# to wynik transformacji - obraz SimpleITK moving nałożony na obraz fixed\n",
    "out = resampler.Execute(moving)\n"
   ]
  },
  {
   "cell_type": "code",
   "execution_count": 6,
   "id": "c4da7298",
   "metadata": {},
   "outputs": [],
   "source": [
    "# A teraz znajduję transformację odwrotną\n",
    "inverse_transform = outTx.GetInverse()\n",
    "\n",
    "# i przekształcam wynik transformacji outTx transformacją do niej odwrotną - w teorii powinno to być przekształcenie identycznościowe\n",
    "movingFromInverse = sitk.Resample(out,moving,inverse_transform,sitk.sitkLinear,0,out.GetPixelID())\n"
   ]
  },
  {
   "cell_type": "code",
   "execution_count": 8,
   "id": "1b97c939",
   "metadata": {},
   "outputs": [
    {
     "name": "stdout",
     "output_type": "stream",
     "text": [
      "234633.06 7265.5293\n"
     ]
    }
   ],
   "source": [
    "# przerabiam obrazki SimpleITK na macierze numpy\n",
    "fixedNP = sitk.GetArrayFromImage(fixed)\n",
    "movingNP = sitk.GetArrayFromImage(moving)\n",
    "outNP = sitk.GetArrayFromImage(out)\n",
    "movingFromInverseNP = sitk.GetArrayFromImage(movingFromInverse)\n",
    "\n",
    "# i sprawdzam, jak zadziałało przekształcenie \"identycznościowe\"\n",
    "print(np.sum(np.abs(movingNP-outNP)),np.sum(np.abs(movingNP-movingFromInverseNP)))\n",
    "CImg(fixedNP-outNP).display();\n",
    "CImg(movingNP-outNP).display();\n",
    "CImg(movingNP-movingFromInverseNP).display();"
   ]
  },
  {
   "cell_type": "code",
   "execution_count": 9,
   "id": "b0415d26",
   "metadata": {},
   "outputs": [
    {
     "name": "stdout",
     "output_type": "stream",
     "text": [
      "0.7884047908593121 0.8018462082709628 0.028753029132587177 0.63050174400885 0.9314539294024102\n",
      "0.9592578576895322 0.9448806766156504 0.005493966639239434 0.27560525812328457 0.9702579962010676\n"
     ]
    }
   ],
   "source": [
    "#metryki jakości nakładania\n",
    "\n",
    "from scipy.stats import spearmanr\n",
    "from scipy.stats import pearsonr\n",
    "import skimage\n",
    "\n",
    "array_a = np.ndarray.flatten(fixedNP)\n",
    "array_b = np.ndarray.flatten(movingNP)\n",
    "array_c = np.ndarray.flatten(outNP)\n",
    "\n",
    "print(pearsonr(array_a, array_b)[0],spearmanr(array_a, array_b).correlation,skimage.metrics.mean_squared_error(array_a, array_b),skimage.metrics.normalized_root_mse(array_a, array_b),skimage.metrics.structural_similarity(array_a, array_b))\n",
    "print(pearsonr(array_a, array_c)[0],spearmanr(array_a, array_c).correlation,skimage.metrics.mean_squared_error(array_a, array_c),skimage.metrics.normalized_root_mse(array_a, array_c),skimage.metrics.structural_similarity(array_a, array_c))"
   ]
  },
  {
   "cell_type": "code",
   "execution_count": 10,
   "id": "6f6026e2",
   "metadata": {},
   "outputs": [
    {
     "name": "stdout",
     "output_type": "stream",
     "text": [
      "Initial Parameters:\n",
      "(0.0071853797489650146, 0.002042329312479701, 0.008962751171936095, -14.3900774451413, -1.2703847641986528, 21.746124176821972, 1.0046875761766223)\n",
      "-------\n",
      "itk::simple::BSplineTransform\n",
      " BSplineTransform (0x55f0db6c9860)\n",
      "   RTTI typeinfo:   itk::BSplineTransform<double, 3u, 3u>\n",
      "   Reference Count: 3\n",
      "   Modified Time: 3895\n",
      "   Debug: Off\n",
      "   Object Name: \n",
      "   Observers: \n",
      "     none\n",
      "   CoefficientImage: [ 0x55f0db8a45c0, 0x55f0d08b1220, 0x55f0d08b14b0 ]\n",
      "   TransformDomainOrigin: [-313.281, -398.281, -1.875]\n",
      "   TransformDomainPhysicalDimensions: [314.062, 399.062, 243.75]\n",
      "   TransformDomainDirection: 1 0 0\n",
      "0 1 0\n",
      "0 0 1\n",
      "\n",
      "   TransformDomainMeshSize: [2, 2, 2]\n",
      "   GridSize: [5, 5, 5]\n",
      "   GridOrigin: [-470.312, -597.812, -123.75]\n",
      "   GridSpacing: [157.031, 199.531, 121.875]\n",
      "   GridDirection: 1 0 0\n",
      "0 1 0\n",
      "0 0 1\n",
      "\n",
      "\n",
      "Optimizer stop condition: LBFGSBOptimizerv4: User requested\n",
      " Iteration: 10\n",
      " Metric value: -0.9534410171352067\n"
     ]
    }
   ],
   "source": [
    "# W kolejnym kroku znajduję transformacje elastyczną outTx(moving)->fixed\n",
    "\n",
    "transformDomainMeshSize = [2] * moving.GetDimension()\n",
    "tx1 = sitk.BSplineTransformInitializer(fixed,transformDomainMeshSize)\n",
    "\n",
    "print(\"Initial Parameters:\")\n",
    "print(tx.GetParameters())\n",
    "\n",
    "R1 = sitk.ImageRegistrationMethod()\n",
    "R1.SetMetricAsCorrelation()\n",
    "\n",
    "R1.SetOptimizerAsLBFGSB(gradientConvergenceTolerance=1e-5,\n",
    "                    numberOfIterations=10,\n",
    "                    maximumNumberOfCorrections=5,\n",
    "                    maximumNumberOfFunctionEvaluations=1000,\n",
    "                    costFunctionConvergenceFactor=1e+7)\n",
    "R1.SetInitialTransform(tx1, True)\n",
    "R1.SetInterpolator(sitk.sitkLinear)\n",
    "\n",
    "# to można odkomentować, żeby widzieć postęp\n",
    "#R1.AddCommand(sitk.sitkIterationEvent, lambda: command_iteration(R1))\n",
    "\n",
    "outTx1 = R1.Execute(fixed, out)\n",
    "\n",
    "# Aplikuję transformację do outTx(moving)\n",
    "\n",
    "print(\"-------\")\n",
    "print(outTx1)\n",
    "print(f\"Optimizer stop condition: {R1.GetOptimizerStopConditionDescription()}\")\n",
    "print(f\" Iteration: {R1.GetOptimizerIteration()}\")\n",
    "print(f\" Metric value: {R1.GetMetricValue()}\")\n",
    "\n",
    "  \n",
    "resampler1 = sitk.ResampleImageFilter()\n",
    "resampler1.SetReferenceImage(fixed)\n",
    "resampler1.SetInterpolator(sitk.sitkLinear)\n",
    "resampler1.SetDefaultPixelValue(0)\n",
    "resampler1.SetTransform(outTx1)\n",
    "\n",
    "out1 = resampler1.Execute(out)\n"
   ]
  },
  {
   "cell_type": "code",
   "execution_count": 13,
   "id": "fcb15c99",
   "metadata": {},
   "outputs": [
    {
     "name": "stdout",
     "output_type": "stream",
     "text": [
      "GetInverse does not work\n"
     ]
    }
   ],
   "source": [
    "# potrzebna jest transformacja odwrotna, niestety metoda GetInverse() dla Similarity3DTransform nie działa dla BSplineTransform\n",
    "# i ponizsza linia generuje błąd\n",
    "try:\n",
    "    inverse_transform1 = outTx1.GetInverse()\n",
    "except:\n",
    "    print('GetInverse does not work')\n"
   ]
  },
  {
   "cell_type": "code",
   "execution_count": 14,
   "id": "0c43eb09",
   "metadata": {},
   "outputs": [
    {
     "name": "stdout",
     "output_type": "stream",
     "text": [
      "0.9592578576895322 0.9448806766156504 0.005493966639239434 0.27560525812328457 0.9702579962010676\n",
      "0.9765119167576303 0.9450873558391635 0.0031147362546109776 0.20751769220083302 0.9773777393208948\n",
      "241476.4 75858.15 53912.387\n"
     ]
    }
   ],
   "source": [
    "# Wizualizacja i miary jakości nakładania\n",
    "\n",
    "outNP1 = sitk.GetArrayFromImage(out1)\n",
    "array_d = np.ndarray.flatten(outNP1)\n",
    "\n",
    "print(pearsonr(array_a, array_c)[0],spearmanr(array_a, array_c).correlation,skimage.metrics.mean_squared_error(array_a, array_c),skimage.metrics.normalized_root_mse(array_a, array_c),skimage.metrics.structural_similarity(array_a, array_c))\n",
    "print(pearsonr(array_a, array_d)[0],spearmanr(array_a, array_d).correlation,skimage.metrics.mean_squared_error(array_a, array_d),skimage.metrics.normalized_root_mse(array_a, array_d),skimage.metrics.structural_similarity(array_a, array_d))\n",
    "print(np.sum(np.abs(fixedNP-movingNP)),np.sum(np.abs(fixedNP-outNP)),np.sum(np.abs(fixedNP-outNP1)))\n",
    "\n",
    "CImg(fixedNP-outNP).display();\n",
    "CImg(fixedNP-outNP1).display();\n"
   ]
  },
  {
   "cell_type": "code",
   "execution_count": 25,
   "id": "8e93fe1c",
   "metadata": {},
   "outputs": [],
   "source": [
    "#zapiszmy transformacje \n",
    "sitk.WriteTransform(outTx, 'transform.txt')\n",
    "sitk.WriteTransform(outTx1, 'transform1.txt')\n",
    "\n",
    "#przeczytajmy transformacje \n",
    "t1 = sitk.ReadTransform('transform.txt')\n",
    "t2 = sitk.ReadTransform('transform1.txt')\n",
    "\n",
    "#zaaplikujmy transformacje do obrazów\n",
    "im1 = sitk.Resample(moving,fixed,t1,sitk.sitkLinear,0,fixed.GetPixelID())\n",
    "im2 = sitk.Resample(im1,fixed,t2,sitk.sitkLinear,0,fixed.GetPixelID())\n",
    "\n",
    "#porównajmy wyniki działania transformacji wczytanych z plików  z wyliczeniami z komórek powyżej - obraz foo powinien być identyczny z obrazem outNP1\n",
    "foo = sitk.GetArrayFromImage(im2)\n",
    "CImg(outNP1 - foo).display();"
   ]
  }
 ],
 "metadata": {
  "kernelspec": {
   "display_name": "Python 3 (ipykernel)",
   "language": "python",
   "name": "python3"
  },
  "language_info": {
   "codemirror_mode": {
    "name": "ipython",
    "version": 3
   },
   "file_extension": ".py",
   "mimetype": "text/x-python",
   "name": "python",
   "nbconvert_exporter": "python",
   "pygments_lexer": "ipython3",
   "version": "3.9.6"
  }
 },
 "nbformat": 4,
 "nbformat_minor": 5
}
