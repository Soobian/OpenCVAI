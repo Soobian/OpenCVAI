{
 "cells": [
  {
   "cell_type": "code",
   "execution_count": 1,
   "id": "fa0823d5-19e4-4f17-9bf8-8950f9e194bc",
   "metadata": {},
   "outputs": [],
   "source": [
    "import numpy as np\n",
    "import os\n",
    "import glob\n",
    "import math\n",
    "import nibabel as nib\n",
    "import cv2\n",
    "\n",
    "from pycimg import CImg\n",
    "from skimage import measure\n",
    "from skimage import morphology\n",
    "from scipy import ndimage\n",
    "from scipy.spatial import ConvexHull\n"
   ]
  },
  {
   "cell_type": "code",
   "execution_count": 2,
   "id": "ac2564d1-b727-47b8-9eee-5128bd790230",
   "metadata": {},
   "outputs": [],
   "source": [
    "#img_numbers = ['01', '07', '10', '11', '12', '13', '14']\n",
    "img_numbers = ['07']\n",
    "images = []"
   ]
  },
  {
   "cell_type": "code",
   "execution_count": 3,
   "id": "eca62382-51f9-4231-bb1a-eb7e1825910a",
   "metadata": {},
   "outputs": [
    {
     "name": "stdout",
     "output_type": "stream",
     "text": [
      "(512, 512, 145)\n"
     ]
    }
   ],
   "source": [
    "for img_num in img_numbers:\n",
    "    fname = './Images/IMG_00' + img_num + '.nii.gz'\n",
    "    \n",
    "    foo = nib.load(fname).get_fdata()\n",
    "    images.append(foo)\n",
    "    print(foo.shape)"
   ]
  },
  {
   "cell_type": "code",
   "execution_count": 4,
   "id": "7da5e6d5-d9ad-4ed4-b77c-f73ff3445360",
   "metadata": {},
   "outputs": [],
   "source": [
    "from scipy import ndimage as ndi\n",
    "from skimage import (exposure, feature, filters, io, measure,\n",
    "                      morphology, restoration, segmentation, transform,\n",
    "                      util)\n",
    "import numpy as np\n",
    "from scipy import ndimage\n",
    "from skimage.measure import label, regionprops"
   ]
  },
  {
   "cell_type": "code",
   "execution_count": 5,
   "id": "333e5a8b-2088-4510-bda1-555e6e1db947",
   "metadata": {},
   "outputs": [],
   "source": [
    "body_masks = []\n",
    "\n",
    "for foo in images:\n",
    "    denoised = ndi.median_filter(foo, size=3)\n",
    "    \n",
    "    li_thresholded = denoised > filters.threshold_li(denoised) * 0.3\n",
    "    \n",
    "    filled = ndi.binary_fill_holes(li_thresholded)\n",
    "\n",
    "    width = 45\n",
    "    \n",
    "    processed = morphology.remove_small_holes(\n",
    "        filled, \n",
    "        area_threshold=width ** 3\n",
    "    )\n",
    "    \n",
    "    processed = morphology.remove_small_objects(\n",
    "        processed, \n",
    "        min_size=width ** 3\n",
    "    )\n",
    "    \n",
    "    labeled_image, num_features = ndimage.label(processed)\n",
    "\n",
    "    segment_sizes = [r.area for r in regionprops(labeled_image)]\n",
    "    \n",
    "    sorted_segment_sizes = sorted(enumerate(segment_sizes, 1), key=lambda x: x[1], reverse=True)\n",
    "    \n",
    "    mask = np.zeros_like(labeled_image, dtype=bool)\n",
    "    \n",
    "    largest_label, _ = sorted_segment_sizes[0]\n",
    "    mask[labeled_image == largest_label] = True\n",
    "    \n",
    "    lung_data = np.where(mask, labeled_image, 0)\n",
    "\n",
    "    lung_reverse = 1 - lung_data\n",
    "\n",
    "    labeled_image, num_features = ndimage.label(lung_reverse)\n",
    "    \n",
    "    segment_sizes = np.bincount(labeled_image.flat)\n",
    "    \n",
    "    largest_segment_label = np.argmax(segment_sizes[1:]) + 1\n",
    "    \n",
    "    largest_segment_mask = (labeled_image == largest_segment_label)\n",
    "    \n",
    "    largest_segment_image = largest_segment_mask.astype(int)\n",
    "\n",
    "    body_mask = 1 - largest_segment_image\n",
    "\n",
    "    body_masks.append(body_mask)"
   ]
  },
  {
   "cell_type": "code",
   "execution_count": 6,
   "id": "c5536d14-cdaa-48b6-ab11-8d3ce721f851",
   "metadata": {},
   "outputs": [
    {
     "name": "stderr",
     "output_type": "stream",
     "text": [
      "/var/folders/ty/xq7rpq895bzdw312p77042zm0000gn/T/ipykernel_13157/4289163537.py:12: UserWarning: Any labeled images will be returned as a boolean array. Did you mean to use a boolean array?\n",
      "  air_regions_filtered = morphology.remove_small_holes(\n"
     ]
    },
    {
     "name": "stdout",
     "output_type": "stream",
     "text": [
      "Segmentation finished\n"
     ]
    }
   ],
   "source": [
    "# Lab 2 - Right and left lung segmentation separately\n",
    "\n",
    "left_markers = []\n",
    "right_markers = []\n",
    "\n",
    "for foo, body_mask in zip(images, body_masks):\n",
    "    binary_img = (foo > -320).astype(int)\n",
    "\n",
    "    binary_img = 1-binary_img\n",
    "    air_regions = np.where(body_mask == 0, 0, binary_img)\n",
    "\n",
    "    air_regions_filtered = morphology.remove_small_holes(\n",
    "        air_regions, \n",
    "        area_threshold=135\n",
    "    )\n",
    "    \n",
    "    air_regions_filtered = morphology.remove_small_objects(\n",
    "        air_regions_filtered, \n",
    "        min_size=135\n",
    "    )\n",
    "\n",
    "    closed_mask = morphology.binary_closing(air_regions, morphology.ball(5))\n",
    "    \n",
    "    label_image, num_features = morphology.label(closed_mask, connectivity=2, return_num=True)\n",
    "    \n",
    "    min_lung_size = 1000  # Minimum size for lung regions\n",
    "    filtered_mask = morphology.remove_small_objects(label_image, min_size=min_lung_size)\n",
    "    filtered_mask[filtered_mask != 0] = 1\n",
    "    \n",
    "    opened_lungs = morphology.opening(filtered_mask, morphology.ball(7))\n",
    "\n",
    "    edges = segmentation.find_boundaries(opened_lungs, mode='inner')\n",
    "    \n",
    "    markers = morphology.label(edges)\n",
    "    \n",
    "    label_image, num_labels = morphology.label(opened_lungs, connectivity=2, return_num=True)\n",
    "    \n",
    "    lung_regions = regionprops(label_image)\n",
    "    \n",
    "    left_lungs = []\n",
    "    right_lungs = []\n",
    "    \n",
    "    for region in lung_regions:\n",
    "        if region.centroid[1] < 280:\n",
    "            left_lungs.append(region.label)\n",
    "        else:\n",
    "            right_lungs.append(region.label)\n",
    "    \n",
    "    left_marker = np.isin(label_image, left_lungs).astype(int)\n",
    "    right_marker = np.isin(label_image, right_lungs).astype(int)\n",
    "\n",
    "    left_markers.append(left_marker)\n",
    "    right_markers.append(right_marker)\n",
    "\n",
    "    print(\"Segmentation finished\")"
   ]
  },
  {
   "cell_type": "code",
   "execution_count": 7,
   "id": "52046739-62d4-4bd5-88c4-22db273c04a5",
   "metadata": {},
   "outputs": [
    {
     "name": "stderr",
     "output_type": "stream",
     "text": [
      "\n",
      "[CImg] *** CImgDisplayException *** CImgDisplay::screen_width(): Failed to open X11 display.\n"
     ]
    },
    {
     "ename": "RuntimeError",
     "evalue": "CImgDisplay::screen_width(): Failed to open X11 display.",
     "output_type": "error",
     "traceback": [
      "\u001b[0;31m---------------------------------------------------------------------------\u001b[0m",
      "\u001b[0;31mRuntimeError\u001b[0m                              Traceback (most recent call last)",
      "Cell \u001b[0;32mIn[7], line 1\u001b[0m\n\u001b[0;32m----> 1\u001b[0m \u001b[43mCImg\u001b[49m\u001b[43m(\u001b[49m\u001b[43mleft_marker\u001b[49m\u001b[43m)\u001b[49m\u001b[38;5;241;43m.\u001b[39;49m\u001b[43mdisplay\u001b[49m\u001b[43m(\u001b[49m\u001b[43m)\u001b[49m;\n\u001b[1;32m      2\u001b[0m CImg(right_marker)\u001b[38;5;241m.\u001b[39mdisplay();\n",
      "File \u001b[0;32m/opt/anaconda3/envs/openCVAI/lib/python3.9/site-packages/pycimg/pycimg.py:259\u001b[0m, in \u001b[0;36mCImg.__getattr__.<locals>.wrapper\u001b[0;34m(*args, **kwargs)\u001b[0m\n\u001b[1;32m    257\u001b[0m     \u001b[38;5;28;01melse\u001b[39;00m:\n\u001b[1;32m    258\u001b[0m         cargs\u001b[38;5;241m.\u001b[39mappend(arg)\n\u001b[0;32m--> 259\u001b[0m r \u001b[38;5;241m=\u001b[39m \u001b[43mfunc\u001b[49m\u001b[43m(\u001b[49m\u001b[38;5;241;43m*\u001b[39;49m\u001b[43mcargs\u001b[49m\u001b[43m,\u001b[49m\u001b[43m \u001b[49m\u001b[38;5;241;43m*\u001b[39;49m\u001b[38;5;241;43m*\u001b[39;49m\u001b[43mkwargs\u001b[49m\u001b[43m)\u001b[49m\n\u001b[1;32m    260\u001b[0m \u001b[38;5;28;01mif\u001b[39;00m \u001b[38;5;28misinstance\u001b[39m(r, CImg_uint8)   \u001b[38;5;129;01mor\u001b[39;00m \\\n\u001b[1;32m    261\u001b[0m    \u001b[38;5;28misinstance\u001b[39m(r, CImg_uint16)  \u001b[38;5;129;01mor\u001b[39;00m \\\n\u001b[1;32m    262\u001b[0m    \u001b[38;5;28misinstance\u001b[39m(r, CImg_uint32)  \u001b[38;5;129;01mor\u001b[39;00m \\\n\u001b[1;32m    263\u001b[0m    \u001b[38;5;28misinstance\u001b[39m(r, CImg_float32) \u001b[38;5;129;01mor\u001b[39;00m \\\n\u001b[1;32m    264\u001b[0m    \u001b[38;5;28misinstance\u001b[39m(r, CImg_float64):\n\u001b[1;32m    265\u001b[0m     \u001b[38;5;28mself\u001b[39m\u001b[38;5;241m.\u001b[39m_cimg \u001b[38;5;241m=\u001b[39m r\n",
      "\u001b[0;31mRuntimeError\u001b[0m: CImgDisplay::screen_width(): Failed to open X11 display."
     ]
    }
   ],
   "source": [
    "CImg(left_marker).display();\n",
    "CImg(right_marker).display();"
   ]
  },
  {
   "cell_type": "code",
   "execution_count": 8,
   "id": "6c8a5574-925f-496e-8246-c8fd7ef624bc",
   "metadata": {},
   "outputs": [
    {
     "name": "stdout",
     "output_type": "stream",
     "text": [
      "(512, 512, 145)\n",
      "Segmentation finished\n"
     ]
    }
   ],
   "source": [
    "left_targets = []\n",
    "right_targets = []\n",
    "body_targets = []\n",
    "\n",
    "for img_number in img_numbers:\n",
    "    fname = './ReferenceSegmentations/ReferenceSegmentations/LUNGS_IMG_00' + img_number +  '.nii.gz'\n",
    "    \n",
    "    target = nib.load(fname).get_fdata()\n",
    "    print(target.shape)\n",
    "\n",
    "    right_target = np.zeros_like(target)\n",
    "    left_target = np.zeros_like(target)\n",
    "    \n",
    "    right_target[target == 3] = 1\n",
    "    left_target[target == 2] = 1\n",
    "    right_targets.append(right_target)\n",
    "    left_targets.append(left_target)\n",
    "                \n",
    "    fname = './BodyMasks/BodyMasks/BODYMASK_IMG_00' + img_number + '.nii.gz'\n",
    "    body_target = nib.load(fname).get_fdata()\n",
    "    body_target = body_target.astype(np.uint8)\n",
    "\n",
    "    body_targets.append(body_target)\n",
    "    \n",
    "    print(\"Segmentation finished\")"
   ]
  },
  {
   "cell_type": "code",
   "execution_count": 9,
   "id": "e57b1bb1-5dad-4d2d-8361-f37a53b64cda",
   "metadata": {},
   "outputs": [
    {
     "name": "stdout",
     "output_type": "stream",
     "text": [
      "For image number  07\n",
      "Dice coefficient for the right lung:  0.0\n",
      "Dice coefficient for the left lung:  0.6476069042247554\n",
      "Dice coefficient for body mask:  0.9991545447929256\n"
     ]
    }
   ],
   "source": [
    "import surface_distance\n",
    "from surface_distance import metrics\n",
    "\n",
    "for num, body_mask, body_target, left_mask, left_target, right_mask, right_target in zip(img_numbers, body_masks, body_targets, left_markers, left_targets, right_markers, right_targets): \n",
    "    right_target = right_target.astype(np.uint8)\n",
    "    left_target = left_target.astype(np.uint8)\n",
    "    left_marker = left_marker.astype(np.uint8)\n",
    "    right_marker = right_marker.astype(np.uint8)\n",
    "    body_mask = body_mask.astype(np.uint8)\n",
    "    body_target = body_target.astype(np.uint8)\n",
    "\n",
    "    coef_body = metrics.compute_dice_coefficient(body_target, body_mask)\n",
    "    coef_left = metrics.compute_dice_coefficient(left_target, left_mask)\n",
    "    coef_right = metrics.compute_dice_coefficient(right_target, right_mask)\n",
    "\n",
    "    print(\"For image number \", num)\n",
    "    print(\"Dice coefficient for the right lung: \", coef_right)\n",
    "    print(\"Dice coefficient for the left lung: \", coef_left)\n",
    "    print(\"Dice coefficient for body mask: \", coef_body)"
   ]
  },
  {
   "cell_type": "code",
   "execution_count": null,
   "id": "9fc87006-22ea-4a25-9196-a0ceeb28e08e",
   "metadata": {},
   "outputs": [],
   "source": []
  },
  {
   "cell_type": "code",
   "execution_count": null,
   "id": "63f80dab-ba1d-4da4-9c9d-e3fe4f68a8c0",
   "metadata": {},
   "outputs": [],
   "source": []
  }
 ],
 "metadata": {
  "kernelspec": {
   "display_name": "Python 3 (ipykernel)",
   "language": "python",
   "name": "python3"
  },
  "language_info": {
   "codemirror_mode": {
    "name": "ipython",
    "version": 3
   },
   "file_extension": ".py",
   "mimetype": "text/x-python",
   "name": "python",
   "nbconvert_exporter": "python",
   "pygments_lexer": "ipython3",
   "version": "3.9.6"
  }
 },
 "nbformat": 4,
 "nbformat_minor": 5
}
