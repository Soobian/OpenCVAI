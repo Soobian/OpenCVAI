{
 "cells": [
  {
   "cell_type": "code",
   "execution_count": 1,
   "id": "fa0823d5-19e4-4f17-9bf8-8950f9e194bc",
   "metadata": {},
   "outputs": [],
   "source": [
    "import numpy as np\n",
    "import os\n",
    "import glob\n",
    "import math\n",
    "import nibabel as nib\n",
    "import cv2\n",
    "\n",
    "from pycimg import CImg\n",
    "from skimage import measure\n",
    "from skimage import morphology\n",
    "from scipy import ndimage\n",
    "from scipy.spatial import ConvexHull\n"
   ]
  },
  {
   "cell_type": "code",
   "execution_count": 2,
   "id": "eca62382-51f9-4231-bb1a-eb7e1825910a",
   "metadata": {},
   "outputs": [
    {
     "name": "stdout",
     "output_type": "stream",
     "text": [
      "(512, 512, 133)\n"
     ]
    }
   ],
   "source": [
    "fname = './Images/IMG_0001.nii.gz'\n",
    "\n",
    "foo = nib.load(fname).get_fdata()\n",
    "\n",
    "print(foo.shape)\n",
    "#CImg(foo).display();\n"
   ]
  },
  {
   "cell_type": "code",
   "execution_count": 3,
   "id": "7da5e6d5-d9ad-4ed4-b77c-f73ff3445360",
   "metadata": {},
   "outputs": [],
   "source": [
    "from scipy import ndimage as ndi\n",
    "from skimage import (exposure, feature, filters, io, measure,\n",
    "                      morphology, restoration, segmentation, transform,\n",
    "                      util)\n",
    "\n",
    "denoised = ndi.median_filter(foo, size=3)"
   ]
  },
  {
   "cell_type": "code",
   "execution_count": 4,
   "id": "f630eeda-7e56-41fe-9823-39d319f05469",
   "metadata": {},
   "outputs": [],
   "source": [
    "CImg(denoised).display();"
   ]
  },
  {
   "cell_type": "code",
   "execution_count": 5,
   "id": "333e5a8b-2088-4510-bda1-555e6e1db947",
   "metadata": {},
   "outputs": [],
   "source": [
    "li_thresholded = denoised > filters.threshold_li(denoised) * 0.3\n",
    "\n",
    "filled = ndi.binary_fill_holes(li_thresholded)"
   ]
  },
  {
   "cell_type": "code",
   "execution_count": 6,
   "id": "d437e255-eafa-47f6-8db5-14ebd5e97bbc",
   "metadata": {},
   "outputs": [],
   "source": [
    "CImg(filled).display();"
   ]
  },
  {
   "cell_type": "code",
   "execution_count": 7,
   "id": "f5121d66-2679-4d1c-8454-4fc4e530dd08",
   "metadata": {},
   "outputs": [],
   "source": [
    "width = 45\n",
    "\n",
    "processed = morphology.remove_small_holes(\n",
    "    filled, \n",
    "    area_threshold=width ** 3\n",
    ")\n",
    "\n",
    "processed = morphology.remove_small_objects(\n",
    "    processed, \n",
    "    min_size=width ** 3\n",
    ")"
   ]
  },
  {
   "cell_type": "code",
   "execution_count": 8,
   "id": "5c411a9f-abcb-4a29-b59d-76b967e8759e",
   "metadata": {},
   "outputs": [],
   "source": [
    "import numpy as np\n",
    "from scipy import ndimage\n",
    "from skimage.measure import label, regionprops\n",
    "\n",
    "labeled_image, num_features = ndimage.label(processed)\n",
    "\n",
    "segment_sizes = [r.area for r in regionprops(labeled_image)]\n",
    "\n",
    "sorted_segment_sizes = sorted(enumerate(segment_sizes, 1), key=lambda x: x[1], reverse=True)\n",
    "\n",
    "mask = np.zeros_like(labeled_image, dtype=bool)\n",
    "\n",
    "largest_label, _ = sorted_segment_sizes[0]\n",
    "mask[labeled_image == largest_label] = True\n",
    "\n",
    "lung_data = np.where(mask, labeled_image, 0)"
   ]
  },
  {
   "cell_type": "code",
   "execution_count": 10,
   "id": "2deae4d0-a827-4db2-978d-10ca27632728",
   "metadata": {},
   "outputs": [],
   "source": [
    "CImg(lung_data).display();"
   ]
  },
  {
   "cell_type": "code",
   "execution_count": 17,
   "id": "4dbac901-3b1d-4c8c-ae18-d1bd2dcc4cb3",
   "metadata": {},
   "outputs": [],
   "source": [
    "lung_reverse = 1 - lung_data"
   ]
  },
  {
   "cell_type": "code",
   "execution_count": 19,
   "id": "2c95c957-70f1-441e-883b-343850e104aa",
   "metadata": {},
   "outputs": [],
   "source": [
    "CImg(lung_reverse).display();"
   ]
  },
  {
   "cell_type": "code",
   "execution_count": 20,
   "id": "7cb9b0ea-4d52-41f3-9597-ebb5e6affe80",
   "metadata": {},
   "outputs": [],
   "source": [
    "labeled_image, num_features = ndimage.label(lung_reverse)\n",
    "\n",
    "segment_sizes = np.bincount(labeled_image.flat)\n",
    "\n",
    "largest_segment_label = np.argmax(segment_sizes[1:]) + 1\n",
    "\n",
    "largest_segment_mask = (labeled_image == largest_segment_label)\n",
    "\n",
    "largest_segment_image = largest_segment_mask.astype(int)"
   ]
  },
  {
   "cell_type": "code",
   "execution_count": 22,
   "id": "d4cfdffb-5ca0-40e0-ad40-315ff938d9ba",
   "metadata": {},
   "outputs": [],
   "source": [
    "final_image = 1 - largest_segment_image"
   ]
  },
  {
   "cell_type": "code",
   "execution_count": 24,
   "id": "4a631cef-faa0-48f2-b04d-71abf5f625ad",
   "metadata": {},
   "outputs": [],
   "source": [
    "CImg(final_image).display();"
   ]
  }
 ],
 "metadata": {
  "kernelspec": {
   "display_name": "Python 3 (ipykernel)",
   "language": "python",
   "name": "python3"
  },
  "language_info": {
   "codemirror_mode": {
    "name": "ipython",
    "version": 3
   },
   "file_extension": ".py",
   "mimetype": "text/x-python",
   "name": "python",
   "nbconvert_exporter": "python",
   "pygments_lexer": "ipython3",
   "version": "3.9.6"
  }
 },
 "nbformat": 4,
 "nbformat_minor": 5
}
