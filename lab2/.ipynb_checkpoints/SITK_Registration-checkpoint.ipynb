{
 "cells": [
  {
   "cell_type": "code",
   "execution_count": 1,
   "id": "27d4232e",
   "metadata": {},
   "outputs": [],
   "source": [
    "#https://github.com/InsightSoftwareConsortium/SimpleITK-Notebooks/tree/master/Python\n",
    "\n",
    "#https://simpleitk.org/doxygen/latest/html/examples.html\n",
    "#https://simpleitk.org/doxygen/latest/html/ImageRegistrationMethod1_2ImageRegistrationMethod1_8py-example.html\n",
    "#https://simpleitk.org/doxygen/latest/html/ImageRegistrationMethod2_2ImageRegistrationMethod2_8py-example.html\n",
    "#https://simpleitk.org/doxygen/latest/html/ImageRegistrationMethod3_2ImageRegistrationMethod3_8py-example.html\n",
    "#https://simpleitk.org/doxygen/latest/html/ImageRegistrationMethod4_2ImageRegistrationMethod4_8py-example.html\n",
    "\n",
    "#B_spline registration\n",
    "#https://simpleitk.org/doxygen/latest/html/ImageRegistrationMethodBSpline1_2ImageRegistrationMethodBSpline1_8py-example.html\n",
    "#https://simpleitk.org/doxygen/latest/html/ImageRegistrationMethodBSpline2_2ImageRegistrationMethodBSpline2_8py-example.html\n",
    "#https://simpleitk.org/doxygen/latest/html/ImageRegistrationMethodBSpline3_2ImageRegistrationMethodBSpline3_8py-example.html\n",
    "#http://simpleitk.org/SimpleITK-Notebooks/01_Image_Basics.html\n",
    "\n",
    "import numpy as np\n",
    "import glob\n",
    "import pydicom\n",
    "import os\n",
    "from pycimg import CImg\n",
    "import nibabel as nib\n",
    "from scipy.interpolate import interpn\n",
    "from skimage.filters import gaussian\n",
    "import SimpleITK as sitk\n",
    "import sys"
   ]
  },
  {
   "cell_type": "code",
   "execution_count": 3,
   "id": "63bb23bb",
   "metadata": {},
   "outputs": [],
   "source": [
    "im1Name = './Data/T1_image_0007.nii.gz'\n",
    "im2Name = './Data/DWI_image_0006.nii.gz'"
   ]
  },
  {
   "cell_type": "code",
   "execution_count": 4,
   "id": "fe015d64",
   "metadata": {},
   "outputs": [],
   "source": [
    "def command_iteration(method):\n",
    "     print(f\"{method.GetOptimizerIteration():3} = {method.GetMetricValue():10.5f} : {method.GetOptimizerPosition()}\")\n",
    " "
   ]
  },
  {
   "cell_type": "code",
   "execution_count": 5,
   "id": "0a5684e0",
   "metadata": {},
   "outputs": [],
   "source": [
    "fixed = sitk.ReadImage(im1Name, sitk.sitkFloat32)   # to jest segmentacja \n",
    "fixed = sitk.DiscreteGaussian(fixed, 5.0)           # więc ją nieco rozmywam\n",
    "\n",
    "moving = sitk.ReadImage(im2Name, sitk.sitkFloat32)  # to też jest segmentacja \n",
    "moving = sitk.DiscreteGaussian(moving, 5.0)         # więc ją nieco rozmywam\n"
   ]
  },
  {
   "cell_type": "code",
   "execution_count": 6,
   "id": "2bc52eb1",
   "metadata": {},
   "outputs": [
    {
     "name": "stdout",
     "output_type": "stream",
     "text": [
      "  0 =   -0.89814 : (0.0006578114618811966, -0.0011585186477273183, 0.0016353323961765937, -14.701592844687768, -0.4608462502223899, 23.553136449207425, 1.00083681041304)\n",
      "  1 =   -0.90636 : (0.0008191429931373421, -0.0010710781112238305, 0.001946610205361696, -14.723093602088152, -0.5990284613265644, 22.562963308069147, 1.0009860157657802)\n",
      "  2 =   -0.91053 : (0.0012928699214457163, -0.0009876002973040212, 0.002727223753670007, -14.593625801077165, -0.8216856367498863, 21.596703324568526, 1.0013759208163457)\n",
      "  3 =   -0.90924 : (0.0018646724330596484, -0.0009252874247787503, 0.003468413692895176, -14.375369399550399, -0.9155982317852278, 22.036636155021718, 1.001765179022799)\n",
      "  4 =   -0.91109 : (0.002205769373042052, -0.0007604261725697797, 0.0038740070466400153, -14.36468822842519, -0.9888352277718474, 21.797845498576663, 1.0019779012529582)\n",
      "  5 =   -0.91154 : (0.0036203644562083567, -0.00013467781228368165, 0.0054727593640697385, -14.246213628398424, -1.185236334483812, 21.69849833253491, 1.0028263783008124)\n",
      "  6 =   -0.91348 : (0.005531410346917193, 0.0010142778874879625, 0.007342728656699082, -14.3238523488807, -1.2623881674000723, 21.758580869396503, 1.0038436164889344)\n",
      "  7 =   -0.91733 : (0.006151564873342805, 0.001394587181901965, 0.00794158002540447, -14.353456989936204, -1.2725552339620467, 21.704517972829525, 1.0041558682728084)\n",
      "  8 =   -0.91820 : (0.006451375945603296, 0.0015765834921849383, 0.008235621119060224, -14.361068628331907, -1.2715999102255253, 21.734797526960243, 1.0043090307228164)\n",
      "  9 =   -0.91878 : (0.007185379746674701, 0.002042329311011718, 0.008962751169642513, -14.390077445025943, -1.2703847642149506, 21.746124176765516, 1.0046875761754683)\n",
      "-------\n",
      "itk::simple::Similarity3DTransform\n",
      " Similarity3DTransform (0x7f99c2f84240)\n",
      "   RTTI typeinfo:   itk::Similarity3DTransform<double>\n",
      "   Reference Count: 3\n",
      "   Modified Time: 3041\n",
      "   Debug: Off\n",
      "   Object Name: \n",
      "   Observers: \n",
      "     none\n",
      "   Matrix: \n",
      "     1.00452 -0.0179788 0.00423293 \n",
      "     0.0180378 1.00442 -0.0144004 \n",
      "     -0.00397412 0.0144739 1.00458 \n",
      "   Offset: [-16.9882, 3.96974, 22.6829]\n",
      "   Center: [-143.584, -147.958, 138.598]\n",
      "   Translation: [-14.3901, -1.27038, 21.7461]\n",
      "   Inverse: \n",
      "     0.995166 0.0178699 -0.00393712 \n",
      "     -0.0178114 0.995072 0.0143392 \n",
      "     0.00419352 -0.0142663 0.995223 \n",
      "   Singular: 0\n",
      "   Versor: [ 0.00718538, 0.00204233, 0.00896275, 0.999932 ]\n",
      "   Scale = 1.00469\n",
      "\n",
      "Optimizer stop condition: RegularStepGradientDescentOptimizerv4: Maximum number of iterations (10) exceeded.\n",
      " Iteration: 10\n",
      " Metric value: -0.9187791224627055\n"
     ]
    }
   ],
   "source": [
    "# Najpierw znajduję transformację afiniczną moving->fixed\n",
    "\n",
    "R = sitk.ImageRegistrationMethod()\n",
    "\n",
    "R.SetMetricAsCorrelation()\n",
    "R.SetOptimizerAsRegularStepGradientDescent(learningRate=2.0,\n",
    "                                        minStep=1e-4,\n",
    "                                        numberOfIterations=10,\n",
    "                                        gradientMagnitudeTolerance=1e-8)\n",
    "R.SetOptimizerScalesFromIndexShift()\n",
    "tx = sitk.CenteredTransformInitializer(fixed, moving,\n",
    "                                    sitk.Similarity3DTransform())\n",
    "R.SetInitialTransform(tx)\n",
    "R.SetInterpolator(sitk.sitkLinear)\n",
    "\n",
    "# to można odkomentować, żeby widzieć postęp\n",
    "R.AddCommand(sitk.sitkIterationEvent, lambda: command_iteration(R))\n",
    "\n",
    "outTx = R.Execute(fixed, moving)\n",
    "\n",
    "# Aplikuję transformację do \"moving image\"\n",
    "\n",
    "print(\"-------\")\n",
    "print(outTx)\n",
    "print(f\"Optimizer stop condition: {R.GetOptimizerStopConditionDescription()}\")\n",
    "print(f\" Iteration: {R.GetOptimizerIteration()}\")\n",
    "print(f\" Metric value: {R.GetMetricValue()}\")\n",
    "\n",
    "#sitk.WriteTransform(outTx, 'transform.txt')\n",
    "#print(outTx)\n",
    "  \n",
    "resampler = sitk.ResampleImageFilter()\n",
    "resampler.SetReferenceImage(fixed)\n",
    "resampler.SetInterpolator(sitk.sitkLinear)\n",
    "resampler.SetDefaultPixelValue(0)\n",
    "resampler.SetTransform(outTx)\n",
    "\n",
    "# to wynik transformacji - obraz SimpleITK moving nałożony na obraz fixed\n",
    "out = resampler.Execute(moving)\n"
   ]
  },
  {
   "cell_type": "code",
   "execution_count": 7,
   "id": "c4da7298",
   "metadata": {},
   "outputs": [],
   "source": [
    "# A teraz znajduję transformację odwrotną\n",
    "inverse_transform = outTx.GetInverse()\n",
    "\n",
    "# i przekształcam wynik transformacji outTx transformacją do niej odwrotną - w teorii powinno to być przekształcenie identycznościowe\n",
    "movingFromInverse = sitk.Resample(out,moving,inverse_transform,sitk.sitkLinear,0,out.GetPixelID())\n"
   ]
  },
  {
   "cell_type": "code",
   "execution_count": 8,
   "id": "1b97c939",
   "metadata": {},
   "outputs": [
    {
     "name": "stdout",
     "output_type": "stream",
     "text": [
      "234633.06 7265.5293\n"
     ]
    },
    {
     "name": "stderr",
     "output_type": "stream",
     "text": [
      "\n",
      "[CImg] *** CImgDisplayException *** CImgDisplay::screen_width(): Failed to open X11 display.\n"
     ]
    },
    {
     "ename": "RuntimeError",
     "evalue": "CImgDisplay::screen_width(): Failed to open X11 display.",
     "output_type": "error",
     "traceback": [
      "\u001b[0;31m---------------------------------------------------------------------------\u001b[0m",
      "\u001b[0;31mRuntimeError\u001b[0m                              Traceback (most recent call last)",
      "Cell \u001b[0;32mIn[8], line 9\u001b[0m\n\u001b[1;32m      7\u001b[0m \u001b[38;5;66;03m# i sprawdzam, jak zadziałało przekształcenie \"identycznościowe\"\u001b[39;00m\n\u001b[1;32m      8\u001b[0m \u001b[38;5;28mprint\u001b[39m(np\u001b[38;5;241m.\u001b[39msum(np\u001b[38;5;241m.\u001b[39mabs(movingNP\u001b[38;5;241m-\u001b[39moutNP)),np\u001b[38;5;241m.\u001b[39msum(np\u001b[38;5;241m.\u001b[39mabs(movingNP\u001b[38;5;241m-\u001b[39mmovingFromInverseNP)))\n\u001b[0;32m----> 9\u001b[0m \u001b[43mCImg\u001b[49m\u001b[43m(\u001b[49m\u001b[43mfixedNP\u001b[49m\u001b[38;5;241;43m-\u001b[39;49m\u001b[43moutNP\u001b[49m\u001b[43m)\u001b[49m\u001b[38;5;241;43m.\u001b[39;49m\u001b[43mdisplay\u001b[49m\u001b[43m(\u001b[49m\u001b[43m)\u001b[49m;\n\u001b[1;32m     10\u001b[0m CImg(movingNP\u001b[38;5;241m-\u001b[39moutNP)\u001b[38;5;241m.\u001b[39mdisplay();\n\u001b[1;32m     11\u001b[0m CImg(movingNP\u001b[38;5;241m-\u001b[39mmovingFromInverseNP)\u001b[38;5;241m.\u001b[39mdisplay();\n",
      "File \u001b[0;32m/opt/anaconda3/envs/openCVAI/lib/python3.9/site-packages/pycimg/pycimg.py:259\u001b[0m, in \u001b[0;36mCImg.__getattr__.<locals>.wrapper\u001b[0;34m(*args, **kwargs)\u001b[0m\n\u001b[1;32m    257\u001b[0m     \u001b[38;5;28;01melse\u001b[39;00m:\n\u001b[1;32m    258\u001b[0m         cargs\u001b[38;5;241m.\u001b[39mappend(arg)\n\u001b[0;32m--> 259\u001b[0m r \u001b[38;5;241m=\u001b[39m \u001b[43mfunc\u001b[49m\u001b[43m(\u001b[49m\u001b[38;5;241;43m*\u001b[39;49m\u001b[43mcargs\u001b[49m\u001b[43m,\u001b[49m\u001b[43m \u001b[49m\u001b[38;5;241;43m*\u001b[39;49m\u001b[38;5;241;43m*\u001b[39;49m\u001b[43mkwargs\u001b[49m\u001b[43m)\u001b[49m\n\u001b[1;32m    260\u001b[0m \u001b[38;5;28;01mif\u001b[39;00m \u001b[38;5;28misinstance\u001b[39m(r, CImg_uint8)   \u001b[38;5;129;01mor\u001b[39;00m \\\n\u001b[1;32m    261\u001b[0m    \u001b[38;5;28misinstance\u001b[39m(r, CImg_uint16)  \u001b[38;5;129;01mor\u001b[39;00m \\\n\u001b[1;32m    262\u001b[0m    \u001b[38;5;28misinstance\u001b[39m(r, CImg_uint32)  \u001b[38;5;129;01mor\u001b[39;00m \\\n\u001b[1;32m    263\u001b[0m    \u001b[38;5;28misinstance\u001b[39m(r, CImg_float32) \u001b[38;5;129;01mor\u001b[39;00m \\\n\u001b[1;32m    264\u001b[0m    \u001b[38;5;28misinstance\u001b[39m(r, CImg_float64):\n\u001b[1;32m    265\u001b[0m     \u001b[38;5;28mself\u001b[39m\u001b[38;5;241m.\u001b[39m_cimg \u001b[38;5;241m=\u001b[39m r\n",
      "\u001b[0;31mRuntimeError\u001b[0m: CImgDisplay::screen_width(): Failed to open X11 display."
     ]
    }
   ],
   "source": [
    "# przerabiam obrazki SimpleITK na macierze numpy\n",
    "fixedNP = sitk.GetArrayFromImage(fixed)\n",
    "movingNP = sitk.GetArrayFromImage(moving)\n",
    "outNP = sitk.GetArrayFromImage(out)\n",
    "movingFromInverseNP = sitk.GetArrayFromImage(movingFromInverse)\n",
    "\n",
    "# i sprawdzam, jak zadziałało przekształcenie \"identycznościowe\"\n",
    "print(np.sum(np.abs(movingNP-outNP)),np.sum(np.abs(movingNP-movingFromInverseNP)))\n",
    "CImg(fixedNP-outNP).display();\n",
    "CImg(movingNP-outNP).display();\n",
    "CImg(movingNP-movingFromInverseNP).display();"
   ]
  },
  {
   "cell_type": "code",
   "execution_count": 10,
   "id": "b0415d26",
   "metadata": {},
   "outputs": [
    {
     "ename": "ValueError",
     "evalue": "Since image dtype is floating point, you must specify the data_range parameter. Please read the documentation carefully (including the note). It is recommended that you always specify the data_range anyway.",
     "output_type": "error",
     "traceback": [
      "\u001b[0;31m---------------------------------------------------------------------------\u001b[0m",
      "\u001b[0;31mValueError\u001b[0m                                Traceback (most recent call last)",
      "Cell \u001b[0;32mIn[10], line 11\u001b[0m\n\u001b[1;32m      8\u001b[0m array_b \u001b[38;5;241m=\u001b[39m np\u001b[38;5;241m.\u001b[39mndarray\u001b[38;5;241m.\u001b[39mflatten(movingNP)\n\u001b[1;32m      9\u001b[0m array_c \u001b[38;5;241m=\u001b[39m np\u001b[38;5;241m.\u001b[39mndarray\u001b[38;5;241m.\u001b[39mflatten(outNP)\n\u001b[0;32m---> 11\u001b[0m \u001b[38;5;28mprint\u001b[39m(pearsonr(array_a, array_b)[\u001b[38;5;241m0\u001b[39m],spearmanr(array_a, array_b)\u001b[38;5;241m.\u001b[39mcorrelation,skimage\u001b[38;5;241m.\u001b[39mmetrics\u001b[38;5;241m.\u001b[39mmean_squared_error(array_a, array_b),skimage\u001b[38;5;241m.\u001b[39mmetrics\u001b[38;5;241m.\u001b[39mnormalized_root_mse(array_a, array_b),\u001b[43mskimage\u001b[49m\u001b[38;5;241;43m.\u001b[39;49m\u001b[43mmetrics\u001b[49m\u001b[38;5;241;43m.\u001b[39;49m\u001b[43mstructural_similarity\u001b[49m\u001b[43m(\u001b[49m\u001b[43marray_a\u001b[49m\u001b[43m,\u001b[49m\u001b[43m \u001b[49m\u001b[43marray_b\u001b[49m\u001b[43m)\u001b[49m)\n\u001b[1;32m     12\u001b[0m \u001b[38;5;28mprint\u001b[39m(pearsonr(array_a, array_c)[\u001b[38;5;241m0\u001b[39m],spearmanr(array_a, array_c)\u001b[38;5;241m.\u001b[39mcorrelation,skimage\u001b[38;5;241m.\u001b[39mmetrics\u001b[38;5;241m.\u001b[39mmean_squared_error(array_a, array_c),skimage\u001b[38;5;241m.\u001b[39mmetrics\u001b[38;5;241m.\u001b[39mnormalized_root_mse(array_a, array_c),skimage\u001b[38;5;241m.\u001b[39mmetrics\u001b[38;5;241m.\u001b[39mstructural_similarity(array_a, array_c))\n",
      "File \u001b[0;32m/opt/anaconda3/envs/openCVAI/lib/python3.9/site-packages/skimage/metrics/_structural_similarity.py:194\u001b[0m, in \u001b[0;36mstructural_similarity\u001b[0;34m(im1, im2, win_size, gradient, data_range, channel_axis, gaussian_weights, full, **kwargs)\u001b[0m\n\u001b[1;32m    191\u001b[0m \u001b[38;5;28;01mif\u001b[39;00m data_range \u001b[38;5;129;01mis\u001b[39;00m \u001b[38;5;28;01mNone\u001b[39;00m:\n\u001b[1;32m    192\u001b[0m     \u001b[38;5;28;01mif\u001b[39;00m (np\u001b[38;5;241m.\u001b[39missubdtype(im1\u001b[38;5;241m.\u001b[39mdtype, np\u001b[38;5;241m.\u001b[39mfloating) \u001b[38;5;129;01mor\u001b[39;00m\n\u001b[1;32m    193\u001b[0m         np\u001b[38;5;241m.\u001b[39missubdtype(im2\u001b[38;5;241m.\u001b[39mdtype, np\u001b[38;5;241m.\u001b[39mfloating)):\n\u001b[0;32m--> 194\u001b[0m         \u001b[38;5;28;01mraise\u001b[39;00m \u001b[38;5;167;01mValueError\u001b[39;00m(\n\u001b[1;32m    195\u001b[0m             \u001b[38;5;124m'\u001b[39m\u001b[38;5;124mSince image dtype is floating point, you must specify \u001b[39m\u001b[38;5;124m'\u001b[39m\n\u001b[1;32m    196\u001b[0m             \u001b[38;5;124m'\u001b[39m\u001b[38;5;124mthe data_range parameter. Please read the documentation \u001b[39m\u001b[38;5;124m'\u001b[39m\n\u001b[1;32m    197\u001b[0m             \u001b[38;5;124m'\u001b[39m\u001b[38;5;124mcarefully (including the note). It is recommended that \u001b[39m\u001b[38;5;124m'\u001b[39m\n\u001b[1;32m    198\u001b[0m             \u001b[38;5;124m'\u001b[39m\u001b[38;5;124myou always specify the data_range anyway.\u001b[39m\u001b[38;5;124m'\u001b[39m)\n\u001b[1;32m    199\u001b[0m     \u001b[38;5;28;01mif\u001b[39;00m im1\u001b[38;5;241m.\u001b[39mdtype \u001b[38;5;241m!=\u001b[39m im2\u001b[38;5;241m.\u001b[39mdtype:\n\u001b[1;32m    200\u001b[0m         warn(\u001b[38;5;124m\"\u001b[39m\u001b[38;5;124mInputs have mismatched dtypes. Setting data_range based on im1.dtype.\u001b[39m\u001b[38;5;124m\"\u001b[39m,\n\u001b[1;32m    201\u001b[0m              stacklevel\u001b[38;5;241m=\u001b[39m\u001b[38;5;241m2\u001b[39m)\n",
      "\u001b[0;31mValueError\u001b[0m: Since image dtype is floating point, you must specify the data_range parameter. Please read the documentation carefully (including the note). It is recommended that you always specify the data_range anyway."
     ]
    }
   ],
   "source": [
    "#metryki jakości nakładania\n",
    "\n",
    "from scipy.stats import spearmanr\n",
    "from scipy.stats import pearsonr\n",
    "import skimage\n",
    "\n",
    "array_a = np.ndarray.flatten(fixedNP)\n",
    "array_b = np.ndarray.flatten(movingNP)\n",
    "array_c = np.ndarray.flatten(outNP)\n",
    "\n",
    "print(pearsonr(array_a, array_b)[0],spearmanr(array_a, array_b).correlation,skimage.metrics.mean_squared_error(array_a, array_b),skimage.metrics.normalized_root_mse(array_a, array_b),skimage.metrics.structural_similarity(array_a, array_b))\n",
    "print(pearsonr(array_a, array_c)[0],spearmanr(array_a, array_c).correlation,skimage.metrics.mean_squared_error(array_a, array_c),skimage.metrics.normalized_root_mse(array_a, array_c),skimage.metrics.structural_similarity(array_a, array_c))"
   ]
  },
  {
   "cell_type": "code",
   "execution_count": 11,
   "id": "6f6026e2",
   "metadata": {},
   "outputs": [
    {
     "name": "stdout",
     "output_type": "stream",
     "text": [
      "Initial Parameters:\n",
      "(0.007185379746674701, 0.002042329311011718, 0.008962751169642513, -14.390077445025943, -1.2703847642149506, 21.746124176765516, 1.0046875761754683)\n",
      "-------\n",
      "itk::simple::BSplineTransform\n",
      " BSplineTransform (0x7f99a337b770)\n",
      "   RTTI typeinfo:   itk::BSplineTransform<double, 3u, 3u>\n",
      "   Reference Count: 3\n",
      "   Modified Time: 3848\n",
      "   Debug: Off\n",
      "   Object Name: \n",
      "   Observers: \n",
      "     none\n",
      "   CoefficientImage: [ 0x7f999ab6d500, 0x7f999ab6d7b0, 0x7f999ab6da60 ]\n",
      "   TransformDomainOrigin: [-313.281, -398.281, -1.875]\n",
      "   TransformDomainPhysicalDimensions: [314.062, 399.062, 243.75]\n",
      "   TransformDomainDirection: 1 0 0\n",
      "0 1 0\n",
      "0 0 1\n",
      "\n",
      "   TransformDomainMeshSize: [2, 2, 2]\n",
      "   GridSize: [5, 5, 5]\n",
      "   GridOrigin: [-470.312, -597.812, -123.75]\n",
      "   GridSpacing: [157.031, 199.531, 121.875]\n",
      "   GridDirection: 1 0 0\n",
      "0 1 0\n",
      "0 0 1\n",
      "\n",
      "\n",
      "Optimizer stop condition: LBFGSBOptimizerv4: User requested\n",
      " Iteration: 10\n",
      " Metric value: -0.9534410171367028\n"
     ]
    }
   ],
   "source": [
    "# W kolejnym kroku znajduję transformacje elastyczną outTx(moving)->fixed\n",
    "\n",
    "transformDomainMeshSize = [2] * moving.GetDimension()\n",
    "tx1 = sitk.BSplineTransformInitializer(fixed,transformDomainMeshSize)\n",
    "\n",
    "print(\"Initial Parameters:\")\n",
    "print(tx.GetParameters())\n",
    "\n",
    "R1 = sitk.ImageRegistrationMethod()\n",
    "R1.SetMetricAsCorrelation()\n",
    "\n",
    "R1.SetOptimizerAsLBFGSB(gradientConvergenceTolerance=1e-5,\n",
    "                    numberOfIterations=10,\n",
    "                    maximumNumberOfCorrections=5,\n",
    "                    maximumNumberOfFunctionEvaluations=1000,\n",
    "                    costFunctionConvergenceFactor=1e+7)\n",
    "R1.SetInitialTransform(tx1, True)\n",
    "R1.SetInterpolator(sitk.sitkLinear)\n",
    "\n",
    "# to można odkomentować, żeby widzieć postęp\n",
    "#R1.AddCommand(sitk.sitkIterationEvent, lambda: command_iteration(R1))\n",
    "\n",
    "outTx1 = R1.Execute(fixed, out)\n",
    "\n",
    "# Aplikuję transformację do outTx(moving)\n",
    "\n",
    "print(\"-------\")\n",
    "print(outTx1)\n",
    "print(f\"Optimizer stop condition: {R1.GetOptimizerStopConditionDescription()}\")\n",
    "print(f\" Iteration: {R1.GetOptimizerIteration()}\")\n",
    "print(f\" Metric value: {R1.GetMetricValue()}\")\n",
    "\n",
    "  \n",
    "resampler1 = sitk.ResampleImageFilter()\n",
    "resampler1.SetReferenceImage(fixed)\n",
    "resampler1.SetInterpolator(sitk.sitkLinear)\n",
    "resampler1.SetDefaultPixelValue(0)\n",
    "resampler1.SetTransform(outTx1)\n",
    "\n",
    "out1 = resampler1.Execute(out)\n"
   ]
  },
  {
   "cell_type": "code",
   "execution_count": 12,
   "id": "fcb15c99",
   "metadata": {},
   "outputs": [
    {
     "name": "stdout",
     "output_type": "stream",
     "text": [
      "GetInverse does not work\n"
     ]
    }
   ],
   "source": [
    "# potrzebna jest transformacja odwrotna, niestety metoda GetInverse() dla Similarity3DTransform nie działa dla BSplineTransform\n",
    "# i ponizsza linia generuje błąd\n",
    "try:\n",
    "    inverse_transform1 = outTx1.GetInverse()\n",
    "except:\n",
    "    print('GetInverse does not work')\n"
   ]
  },
  {
   "cell_type": "code",
   "execution_count": 13,
   "id": "0c43eb09",
   "metadata": {},
   "outputs": [
    {
     "ename": "ValueError",
     "evalue": "Since image dtype is floating point, you must specify the data_range parameter. Please read the documentation carefully (including the note). It is recommended that you always specify the data_range anyway.",
     "output_type": "error",
     "traceback": [
      "\u001b[0;31m---------------------------------------------------------------------------\u001b[0m",
      "\u001b[0;31mValueError\u001b[0m                                Traceback (most recent call last)",
      "Cell \u001b[0;32mIn[13], line 6\u001b[0m\n\u001b[1;32m      3\u001b[0m outNP1 \u001b[38;5;241m=\u001b[39m sitk\u001b[38;5;241m.\u001b[39mGetArrayFromImage(out1)\n\u001b[1;32m      4\u001b[0m array_d \u001b[38;5;241m=\u001b[39m np\u001b[38;5;241m.\u001b[39mndarray\u001b[38;5;241m.\u001b[39mflatten(outNP1)\n\u001b[0;32m----> 6\u001b[0m \u001b[38;5;28mprint\u001b[39m(pearsonr(array_a, array_c)[\u001b[38;5;241m0\u001b[39m],spearmanr(array_a, array_c)\u001b[38;5;241m.\u001b[39mcorrelation,skimage\u001b[38;5;241m.\u001b[39mmetrics\u001b[38;5;241m.\u001b[39mmean_squared_error(array_a, array_c),skimage\u001b[38;5;241m.\u001b[39mmetrics\u001b[38;5;241m.\u001b[39mnormalized_root_mse(array_a, array_c),\u001b[43mskimage\u001b[49m\u001b[38;5;241;43m.\u001b[39;49m\u001b[43mmetrics\u001b[49m\u001b[38;5;241;43m.\u001b[39;49m\u001b[43mstructural_similarity\u001b[49m\u001b[43m(\u001b[49m\u001b[43marray_a\u001b[49m\u001b[43m,\u001b[49m\u001b[43m \u001b[49m\u001b[43marray_c\u001b[49m\u001b[43m)\u001b[49m)\n\u001b[1;32m      7\u001b[0m \u001b[38;5;28mprint\u001b[39m(pearsonr(array_a, array_d)[\u001b[38;5;241m0\u001b[39m],spearmanr(array_a, array_d)\u001b[38;5;241m.\u001b[39mcorrelation,skimage\u001b[38;5;241m.\u001b[39mmetrics\u001b[38;5;241m.\u001b[39mmean_squared_error(array_a, array_d),skimage\u001b[38;5;241m.\u001b[39mmetrics\u001b[38;5;241m.\u001b[39mnormalized_root_mse(array_a, array_d),skimage\u001b[38;5;241m.\u001b[39mmetrics\u001b[38;5;241m.\u001b[39mstructural_similarity(array_a, array_d))\n\u001b[1;32m      8\u001b[0m \u001b[38;5;28mprint\u001b[39m(np\u001b[38;5;241m.\u001b[39msum(np\u001b[38;5;241m.\u001b[39mabs(fixedNP\u001b[38;5;241m-\u001b[39mmovingNP)),np\u001b[38;5;241m.\u001b[39msum(np\u001b[38;5;241m.\u001b[39mabs(fixedNP\u001b[38;5;241m-\u001b[39moutNP)),np\u001b[38;5;241m.\u001b[39msum(np\u001b[38;5;241m.\u001b[39mabs(fixedNP\u001b[38;5;241m-\u001b[39moutNP1)))\n",
      "File \u001b[0;32m/opt/anaconda3/envs/openCVAI/lib/python3.9/site-packages/skimage/metrics/_structural_similarity.py:194\u001b[0m, in \u001b[0;36mstructural_similarity\u001b[0;34m(im1, im2, win_size, gradient, data_range, channel_axis, gaussian_weights, full, **kwargs)\u001b[0m\n\u001b[1;32m    191\u001b[0m \u001b[38;5;28;01mif\u001b[39;00m data_range \u001b[38;5;129;01mis\u001b[39;00m \u001b[38;5;28;01mNone\u001b[39;00m:\n\u001b[1;32m    192\u001b[0m     \u001b[38;5;28;01mif\u001b[39;00m (np\u001b[38;5;241m.\u001b[39missubdtype(im1\u001b[38;5;241m.\u001b[39mdtype, np\u001b[38;5;241m.\u001b[39mfloating) \u001b[38;5;129;01mor\u001b[39;00m\n\u001b[1;32m    193\u001b[0m         np\u001b[38;5;241m.\u001b[39missubdtype(im2\u001b[38;5;241m.\u001b[39mdtype, np\u001b[38;5;241m.\u001b[39mfloating)):\n\u001b[0;32m--> 194\u001b[0m         \u001b[38;5;28;01mraise\u001b[39;00m \u001b[38;5;167;01mValueError\u001b[39;00m(\n\u001b[1;32m    195\u001b[0m             \u001b[38;5;124m'\u001b[39m\u001b[38;5;124mSince image dtype is floating point, you must specify \u001b[39m\u001b[38;5;124m'\u001b[39m\n\u001b[1;32m    196\u001b[0m             \u001b[38;5;124m'\u001b[39m\u001b[38;5;124mthe data_range parameter. Please read the documentation \u001b[39m\u001b[38;5;124m'\u001b[39m\n\u001b[1;32m    197\u001b[0m             \u001b[38;5;124m'\u001b[39m\u001b[38;5;124mcarefully (including the note). It is recommended that \u001b[39m\u001b[38;5;124m'\u001b[39m\n\u001b[1;32m    198\u001b[0m             \u001b[38;5;124m'\u001b[39m\u001b[38;5;124myou always specify the data_range anyway.\u001b[39m\u001b[38;5;124m'\u001b[39m)\n\u001b[1;32m    199\u001b[0m     \u001b[38;5;28;01mif\u001b[39;00m im1\u001b[38;5;241m.\u001b[39mdtype \u001b[38;5;241m!=\u001b[39m im2\u001b[38;5;241m.\u001b[39mdtype:\n\u001b[1;32m    200\u001b[0m         warn(\u001b[38;5;124m\"\u001b[39m\u001b[38;5;124mInputs have mismatched dtypes. Setting data_range based on im1.dtype.\u001b[39m\u001b[38;5;124m\"\u001b[39m,\n\u001b[1;32m    201\u001b[0m              stacklevel\u001b[38;5;241m=\u001b[39m\u001b[38;5;241m2\u001b[39m)\n",
      "\u001b[0;31mValueError\u001b[0m: Since image dtype is floating point, you must specify the data_range parameter. Please read the documentation carefully (including the note). It is recommended that you always specify the data_range anyway."
     ]
    }
   ],
   "source": [
    "# Wizualizacja i miary jakości nakładania\n",
    "\n",
    "outNP1 = sitk.GetArrayFromImage(out1)\n",
    "array_d = np.ndarray.flatten(outNP1)\n",
    "\n",
    "print(pearsonr(array_a, array_c)[0],spearmanr(array_a, array_c).correlation,skimage.metrics.mean_squared_error(array_a, array_c),skimage.metrics.normalized_root_mse(array_a, array_c),skimage.metrics.structural_similarity(array_a, array_c))\n",
    "print(pearsonr(array_a, array_d)[0],spearmanr(array_a, array_d).correlation,skimage.metrics.mean_squared_error(array_a, array_d),skimage.metrics.normalized_root_mse(array_a, array_d),skimage.metrics.structural_similarity(array_a, array_d))\n",
    "print(np.sum(np.abs(fixedNP-movingNP)),np.sum(np.abs(fixedNP-outNP)),np.sum(np.abs(fixedNP-outNP1)))\n",
    "\n",
    "CImg(fixedNP-outNP).display();\n",
    "CImg(fixedNP-outNP1).display();\n"
   ]
  },
  {
   "cell_type": "code",
   "execution_count": 14,
   "id": "8e93fe1c",
   "metadata": {},
   "outputs": [
    {
     "name": "stderr",
     "output_type": "stream",
     "text": [
      "\n",
      "[CImg] *** CImgDisplayException *** CImgDisplay::screen_width(): Failed to open X11 display.\n"
     ]
    },
    {
     "ename": "RuntimeError",
     "evalue": "CImgDisplay::screen_width(): Failed to open X11 display.",
     "output_type": "error",
     "traceback": [
      "\u001b[0;31m---------------------------------------------------------------------------\u001b[0m",
      "\u001b[0;31mRuntimeError\u001b[0m                              Traceback (most recent call last)",
      "Cell \u001b[0;32mIn[14], line 15\u001b[0m\n\u001b[1;32m     13\u001b[0m \u001b[38;5;66;03m#porównajmy wyniki działania transformacji wczytanych z plików  z wyliczeniami z komórek powyżej - obraz foo powinien być identyczny z obrazem outNP1\u001b[39;00m\n\u001b[1;32m     14\u001b[0m foo \u001b[38;5;241m=\u001b[39m sitk\u001b[38;5;241m.\u001b[39mGetArrayFromImage(im2)\n\u001b[0;32m---> 15\u001b[0m \u001b[43mCImg\u001b[49m\u001b[43m(\u001b[49m\u001b[43moutNP1\u001b[49m\u001b[43m \u001b[49m\u001b[38;5;241;43m-\u001b[39;49m\u001b[43m \u001b[49m\u001b[43mfoo\u001b[49m\u001b[43m)\u001b[49m\u001b[38;5;241;43m.\u001b[39;49m\u001b[43mdisplay\u001b[49m\u001b[43m(\u001b[49m\u001b[43m)\u001b[49m;\n",
      "File \u001b[0;32m/opt/anaconda3/envs/openCVAI/lib/python3.9/site-packages/pycimg/pycimg.py:259\u001b[0m, in \u001b[0;36mCImg.__getattr__.<locals>.wrapper\u001b[0;34m(*args, **kwargs)\u001b[0m\n\u001b[1;32m    257\u001b[0m     \u001b[38;5;28;01melse\u001b[39;00m:\n\u001b[1;32m    258\u001b[0m         cargs\u001b[38;5;241m.\u001b[39mappend(arg)\n\u001b[0;32m--> 259\u001b[0m r \u001b[38;5;241m=\u001b[39m \u001b[43mfunc\u001b[49m\u001b[43m(\u001b[49m\u001b[38;5;241;43m*\u001b[39;49m\u001b[43mcargs\u001b[49m\u001b[43m,\u001b[49m\u001b[43m \u001b[49m\u001b[38;5;241;43m*\u001b[39;49m\u001b[38;5;241;43m*\u001b[39;49m\u001b[43mkwargs\u001b[49m\u001b[43m)\u001b[49m\n\u001b[1;32m    260\u001b[0m \u001b[38;5;28;01mif\u001b[39;00m \u001b[38;5;28misinstance\u001b[39m(r, CImg_uint8)   \u001b[38;5;129;01mor\u001b[39;00m \\\n\u001b[1;32m    261\u001b[0m    \u001b[38;5;28misinstance\u001b[39m(r, CImg_uint16)  \u001b[38;5;129;01mor\u001b[39;00m \\\n\u001b[1;32m    262\u001b[0m    \u001b[38;5;28misinstance\u001b[39m(r, CImg_uint32)  \u001b[38;5;129;01mor\u001b[39;00m \\\n\u001b[1;32m    263\u001b[0m    \u001b[38;5;28misinstance\u001b[39m(r, CImg_float32) \u001b[38;5;129;01mor\u001b[39;00m \\\n\u001b[1;32m    264\u001b[0m    \u001b[38;5;28misinstance\u001b[39m(r, CImg_float64):\n\u001b[1;32m    265\u001b[0m     \u001b[38;5;28mself\u001b[39m\u001b[38;5;241m.\u001b[39m_cimg \u001b[38;5;241m=\u001b[39m r\n",
      "\u001b[0;31mRuntimeError\u001b[0m: CImgDisplay::screen_width(): Failed to open X11 display."
     ]
    }
   ],
   "source": [
    "#zapiszmy transformacje \n",
    "sitk.WriteTransform(outTx, 'transform.txt')\n",
    "sitk.WriteTransform(outTx1, 'transform1.txt')\n",
    "\n",
    "#przeczytajmy transformacje \n",
    "t1 = sitk.ReadTransform('transform.txt')\n",
    "t2 = sitk.ReadTransform('transform1.txt')\n",
    "\n",
    "#zaaplikujmy transformacje do obrazów\n",
    "im1 = sitk.Resample(moving,fixed,t1,sitk.sitkLinear,0,fixed.GetPixelID())\n",
    "im2 = sitk.Resample(im1,fixed,t2,sitk.sitkLinear,0,fixed.GetPixelID())\n",
    "\n",
    "#porównajmy wyniki działania transformacji wczytanych z plików  z wyliczeniami z komórek powyżej - obraz foo powinien być identyczny z obrazem outNP1\n",
    "foo = sitk.GetArrayFromImage(im2)\n",
    "CImg(outNP1 - foo).display();"
   ]
  },
  {
   "cell_type": "code",
   "execution_count": null,
   "id": "6b1c03c3-4c9a-414c-80fa-d1412d71ba48",
   "metadata": {},
   "outputs": [],
   "source": []
  }
 ],
 "metadata": {
  "kernelspec": {
   "display_name": "Python 3 (ipykernel)",
   "language": "python",
   "name": "python3"
  },
  "language_info": {
   "codemirror_mode": {
    "name": "ipython",
    "version": 3
   },
   "file_extension": ".py",
   "mimetype": "text/x-python",
   "name": "python",
   "nbconvert_exporter": "python",
   "pygments_lexer": "ipython3",
   "version": "3.9.6"
  }
 },
 "nbformat": 4,
 "nbformat_minor": 5
}
